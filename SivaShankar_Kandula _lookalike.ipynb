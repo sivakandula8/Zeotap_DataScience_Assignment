{
  "nbformat": 4,
  "nbformat_minor": 0,
  "metadata": {
    "colab": {
      "provenance": []
    },
    "kernelspec": {
      "name": "python3",
      "display_name": "Python 3"
    },
    "language_info": {
      "name": "python"
    }
  },
  "cells": [
    {
      "cell_type": "code",
      "source": [
        "import pandas as pd\n",
        "from sklearn.preprocessing import StandardScaler\n",
        "from sklearn.metrics.pairwise import cosine_similarity"
      ],
      "metadata": {
        "id": "l7nI-hWMZfeM"
      },
      "execution_count": 3,
      "outputs": []
    },
    {
      "cell_type": "code",
      "source": [
        "customers = pd.read_csv(\"Customers.csv\")\n",
        "products = pd.read_csv(\"Products.csv\")\n",
        "transactions = pd.read_csv(\"Transactions.csv\")"
      ],
      "metadata": {
        "id": "ZyGF5_RbZlpn"
      },
      "execution_count": 4,
      "outputs": []
    },
    {
      "cell_type": "code",
      "source": [
        "# Merge datasets\n",
        "transactions = transactions.merge(products, on='ProductID', how='left')\n",
        "customer_transactions = transactions.groupby('CustomerID').agg({\n",
        "    'Category': lambda x: ' '.join(x),  # Combine product categories for each customer\n",
        "    'TotalValue': 'sum',               # Total spending by customer\n",
        "    'TransactionID': 'count'           # Number of transactions\n",
        "}).reset_index()"
      ],
      "metadata": {
        "id": "P_v8JM-kZ-x1"
      },
      "execution_count": 5,
      "outputs": []
    },
    {
      "cell_type": "code",
      "source": [
        "# Merge customer profiles with customer data\n",
        "customer_data = customers.merge(customer_transactions, on='CustomerID', how='left').fillna({\n",
        "    'Category': '', 'TotalValue': 0, 'TransactionID': 0\n",
        "})"
      ],
      "metadata": {
        "id": "xyNr659KaCZ3"
      },
      "execution_count": 6,
      "outputs": []
    },
    {
      "cell_type": "code",
      "source": [
        "# Encode product categories and region\n",
        "category_encoded = customer_data['Category'].str.get_dummies(sep=' ')\n",
        "region_encoded = pd.get_dummies(customer_data['Region'], prefix=\"region\")\n",
        "\n",
        "# Combine all features\n",
        "features = pd.concat([\n",
        "    customer_data[['TotalValue', 'TransactionID']],\n",
        "    category_encoded,\n",
        "    region_encoded\n",
        "], axis=1)"
      ],
      "metadata": {
        "id": "3LrY-aJLaFae"
      },
      "execution_count": 7,
      "outputs": []
    },
    {
      "cell_type": "code",
      "source": [
        "# Normalize numerical features\n",
        "scaler = StandardScaler()\n",
        "features[['TotalValue', 'TransactionID']] = scaler.fit_transform(features[['TotalValue', 'TransactionID']])"
      ],
      "metadata": {
        "id": "p_iePQ3jaKtC"
      },
      "execution_count": 8,
      "outputs": []
    },
    {
      "cell_type": "code",
      "source": [
        "# Calculate Cosine Similarity\n",
        "similarity_matrix = cosine_similarity(features)\n",
        "similarity_df = pd.DataFrame(similarity_matrix, index=customer_data['CustomerID'], columns=customer_data['CustomerID'])\n"
      ],
      "metadata": {
        "id": "rubtB6pRaMHJ"
      },
      "execution_count": 9,
      "outputs": []
    },
    {
      "cell_type": "code",
      "source": [
        "# Generate Lookalike Recommendations\n",
        "lookalike_results = {}\n",
        "for idx, customer_id in enumerate(customer_data['CustomerID'][:20]):  # Limit to the first 20 customers\n",
        "    similar_customers = similarity_df[customer_id].sort_values(ascending=False)[1:4]  # Top 3 excluding self\n",
        "    lookalike_results[customer_id] = [(sim_cust, round(score, 4)) for sim_cust, score in similar_customers.items()]"
      ],
      "metadata": {
        "id": "9tP0hIZfaQJ_"
      },
      "execution_count": 10,
      "outputs": []
    },
    {
      "cell_type": "code",
      "source": [
        "# Save results to CSV\n",
        "lookalike_df = pd.DataFrame({\n",
        "    'CustomerID': lookalike_results.keys(),\n",
        "    'Lookalikes': [str(value) for value in lookalike_results.values()]\n",
        "})\n",
        "csv_file_path = 'Divyanshu_lookalike.csv'\n",
        "lookalike_df.to_csv(csv_file_path, index=False)\n",
        "\n",
        "csv_file_path\n",
        "print(\"Divyanshu.csv has been generated successfully.\")"
      ],
      "metadata": {
        "id": "WXAo3LbYaTao",
        "colab": {
          "base_uri": "https://localhost:8080/"
        },
        "outputId": "78a59fec-af17-446e-e460-6e5104115980"
      },
      "execution_count": 11,
      "outputs": [
        {
          "output_type": "stream",
          "name": "stdout",
          "text": [
            "Divyanshu.csv has been generated successfully.\n"
          ]
        }
      ]
    },
    {
      "cell_type": "code",
      "source": [
        "print(lookalike_df.head())"
      ],
      "metadata": {
        "colab": {
          "base_uri": "https://localhost:8080/"
        },
        "id": "I4RBBBKpa9Tv",
        "outputId": "2203eeb3-9681-4efc-f625-a0958cc611b0"
      },
      "execution_count": 12,
      "outputs": [
        {
          "output_type": "stream",
          "name": "stdout",
          "text": [
            "  CustomerID                                         Lookalikes\n",
            "0      C0001  [('C0152', 1.0), ('C0174', 0.9938), ('C0085', ...\n",
            "1      C0002  [('C0159', 0.9799), ('C0134', 0.9595), ('C0043...\n",
            "2      C0003  [('C0031', 0.9871), ('C0129', 0.981), ('C0158'...\n",
            "3      C0004  [('C0012', 0.9889), ('C0102', 0.9403), ('C0113...\n",
            "4      C0005  [('C0007', 0.9922), ('C0140', 0.987), ('C0177'...\n"
          ]
        }
      ]
    },
    {
      "cell_type": "code",
      "source": [
        "print(lookalike_df)"
      ],
      "metadata": {
        "colab": {
          "base_uri": "https://localhost:8080/"
        },
        "id": "iQIfZu46bRlL",
        "outputId": "d21a1872-f555-4af5-f488-02f67bd505d6"
      },
      "execution_count": 13,
      "outputs": [
        {
          "output_type": "stream",
          "name": "stdout",
          "text": [
            "   CustomerID                                         Lookalikes\n",
            "0       C0001  [('C0152', 1.0), ('C0174', 0.9938), ('C0085', ...\n",
            "1       C0002  [('C0159', 0.9799), ('C0134', 0.9595), ('C0043...\n",
            "2       C0003  [('C0031', 0.9871), ('C0129', 0.981), ('C0158'...\n",
            "3       C0004  [('C0012', 0.9889), ('C0102', 0.9403), ('C0113...\n",
            "4       C0005  [('C0007', 0.9922), ('C0140', 0.987), ('C0177'...\n",
            "5       C0006  [('C0187', 0.9771), ('C0048', 0.8925), ('C0076...\n",
            "6       C0007  [('C0005', 0.9922), ('C0140', 0.9786), ('C0177...\n",
            "7       C0008  [('C0109', 0.9831), ('C0098', 0.9538), ('C0194...\n",
            "8       C0009  [('C0198', 0.9866), ('C0132', 0.785), ('C0074'...\n",
            "9       C0010  [('C0132', 0.9774), ('C0061', 0.9699), ('C0074...\n",
            "10      C0011  [('C0107', 0.9996), ('C0126', 0.9542), ('C0192...\n",
            "11      C0012  [('C0004', 0.9889), ('C0148', 0.9368), ('C0102...\n",
            "12      C0013  [('C0087', 0.995), ('C0155', 0.9931), ('C0099'...\n",
            "13      C0014  [('C0060', 0.9994), ('C0089', 0.9205), ('C0097...\n",
            "14      C0015  [('C0131', 0.9807), ('C0036', 0.9042), ('C0144...\n",
            "15      C0016  [('C0183', 1.0), ('C0034', 0.9529), ('C0029', ...\n",
            "16      C0017  [('C0075', 0.9802), ('C0051', 0.9719), ('C0041...\n",
            "17      C0018  [('C0067', 0.8885), ('C0117', 0.886), ('C0122'...\n",
            "18      C0019  [('C0070', 0.8461), ('C0172', 0.8043), ('C0119...\n",
            "19      C0020  [('C0058', 0.8641), ('C0033', 0.8638), ('C0130...\n"
          ]
        }
      ]
    }
  ]
}